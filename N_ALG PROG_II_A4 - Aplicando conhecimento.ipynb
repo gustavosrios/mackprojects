{
 "cells": [
  {
   "cell_type": "markdown",
   "id": "09d3ce39",
   "metadata": {},
   "source": [
    "<span style=\"font-size: 16px;\"><b> N_ALG PROG_II_A4 - Aplicando conhecimento</b></span>\n",
    "\n",
    "<span style=\"font-size: 14px;\"><b>Aluno:</b></span>\n",
    "Gustavo Silva Rios\n",
    "\n",
    "<span style=\"font-size: 14px;\"><b>Componente Curricular:</b></span>\n",
    "ALGORITMOS E PROGRAMAÇÃO II \n",
    "\n",
    "<span style=\"font-size: 14px;\"><b>TIA:</b></span>\n",
    "10923021403"
   ]
  },
  {
   "cell_type": "markdown",
   "id": "a9253561",
   "metadata": {},
   "source": [
    "<span style=\"font-size: 16px;\"><b>Faça um programa que ordene o conjunto de dados a seguir, usando o algoritmo Quick Sort e o Selection Sort: </b></span>\n",
    "\n",
    "dados = [6, 8, 1, 9, 7, 10, 22, 5, 19] \n",
    " "
   ]
  },
  {
   "cell_type": "code",
   "execution_count": 3,
   "id": "9ff33e30",
   "metadata": {},
   "outputs": [
    {
     "data": {
      "text/plain": [
       "[1, 5, 6, 7, 8, 9, 10, 19, 22]"
      ]
     },
     "execution_count": 3,
     "metadata": {},
     "output_type": "execute_result"
    }
   ],
   "source": [
    "def quick_sort(dados):\n",
    "    if len(dados) <= 1:\n",
    "        return dados\n",
    "    else:\n",
    "        pivot = dados[0]\n",
    "        menor_pivot = [x for x in dados[1:] if x <= pivot]\n",
    "        maior_pivot = [x for x in dados[1:] if x > pivot]\n",
    "        return quick_sort(menor_pivot) + [pivot] + quick_sort(maior_pivot)\n",
    "\n",
    "dados = [6, 8, 1, 9, 7, 10, 22, 5, 19]\n",
    "dados = quick_sort(dados)\n",
    "dados"
   ]
  },
  {
   "cell_type": "code",
   "execution_count": 7,
   "id": "c0dee552",
   "metadata": {},
   "outputs": [
    {
     "data": {
      "text/plain": [
       "[1, 5, 6, 7, 8, 9, 10, 19, 22]"
      ]
     },
     "execution_count": 7,
     "metadata": {},
     "output_type": "execute_result"
    }
   ],
   "source": [
    "def selection_sort(dados):\n",
    "    n = len(dados)\n",
    "    for i in range(n):\n",
    "        min_idx = i\n",
    "        for j in range(i+1, n):\n",
    "            if dados[j] < dados[min_index]:\n",
    "                min_idx = j\n",
    "        dados[i], dados[min_index] = dados[min_index], dados[i]\n",
    "\n",
    "dados = [6, 8, 1, 9, 7, 10, 22, 5, 19]\n",
    "selection_sort(dados)\n",
    "dados"
   ]
  },
  {
   "cell_type": "code",
   "execution_count": null,
   "id": "6eff4d75",
   "metadata": {},
   "outputs": [],
   "source": []
  }
 ],
 "metadata": {
  "kernelspec": {
   "display_name": "Python 3 (ipykernel)",
   "language": "python",
   "name": "python3"
  },
  "language_info": {
   "codemirror_mode": {
    "name": "ipython",
    "version": 3
   },
   "file_extension": ".py",
   "mimetype": "text/x-python",
   "name": "python",
   "nbconvert_exporter": "python",
   "pygments_lexer": "ipython3",
   "version": "3.11.4"
  }
 },
 "nbformat": 4,
 "nbformat_minor": 5
}
